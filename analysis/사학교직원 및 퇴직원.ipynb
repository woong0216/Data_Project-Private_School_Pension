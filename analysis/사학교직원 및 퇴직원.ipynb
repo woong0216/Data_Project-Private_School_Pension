{
 "cells": [
  {
   "cell_type": "code",
   "execution_count": 1,
   "metadata": {},
   "outputs": [],
   "source": [
    "import pandas as pd"
   ]
  },
  {
   "cell_type": "code",
   "execution_count": 2,
   "metadata": {},
   "outputs": [],
   "source": [
    "data_가입자_퇴직자 = pd.read_excel(\"./data/가입자 및 퇴직자.xlsx\",encoding = 'euc-kr')"
   ]
  },
  {
   "cell_type": "code",
   "execution_count": 3,
   "metadata": {},
   "outputs": [],
   "source": [
    "data_가입자_퇴직자=data_가입자_퇴직자.set_index('가입자/퇴직자')"
   ]
  },
  {
   "cell_type": "code",
   "execution_count": 4,
   "metadata": {},
   "outputs": [
    {
     "data": {
      "text/html": [
       "<div>\n",
       "<style scoped>\n",
       "    .dataframe tbody tr th:only-of-type {\n",
       "        vertical-align: middle;\n",
       "    }\n",
       "\n",
       "    .dataframe tbody tr th {\n",
       "        vertical-align: top;\n",
       "    }\n",
       "\n",
       "    .dataframe thead th {\n",
       "        text-align: right;\n",
       "    }\n",
       "</style>\n",
       "<table border=\"1\" class=\"dataframe\">\n",
       "  <thead>\n",
       "    <tr style=\"text-align: right;\">\n",
       "      <th></th>\n",
       "      <th>유치원_교직원</th>\n",
       "      <th>초등학교_교직원</th>\n",
       "      <th>중학교_교직원</th>\n",
       "      <th>고등학교_교직원</th>\n",
       "      <th>전문대_교직원</th>\n",
       "      <th>대학교_교직원</th>\n",
       "      <th>특수학교_교직원</th>\n",
       "    </tr>\n",
       "    <tr>\n",
       "      <th>가입자/퇴직자</th>\n",
       "      <th></th>\n",
       "      <th></th>\n",
       "      <th></th>\n",
       "      <th></th>\n",
       "      <th></th>\n",
       "      <th></th>\n",
       "      <th></th>\n",
       "    </tr>\n",
       "  </thead>\n",
       "  <tbody>\n",
       "    <tr>\n",
       "      <th>가입자</th>\n",
       "      <td>38776</td>\n",
       "      <td>1928</td>\n",
       "      <td>15895</td>\n",
       "      <td>44290</td>\n",
       "      <td>13225</td>\n",
       "      <td>199888</td>\n",
       "      <td>3563</td>\n",
       "    </tr>\n",
       "    <tr>\n",
       "      <th>퇴직자</th>\n",
       "      <td>12611</td>\n",
       "      <td>86</td>\n",
       "      <td>977</td>\n",
       "      <td>2731</td>\n",
       "      <td>1329</td>\n",
       "      <td>16700</td>\n",
       "      <td>193</td>\n",
       "    </tr>\n",
       "  </tbody>\n",
       "</table>\n",
       "</div>"
      ],
      "text/plain": [
       "         유치원_교직원  초등학교_교직원  중학교_교직원  고등학교_교직원  전문대_교직원  대학교_교직원  특수학교_교직원\n",
       "가입자/퇴직자                                                                  \n",
       "가입자        38776      1928    15895     44290    13225   199888      3563\n",
       "퇴직자        12611        86      977      2731     1329    16700       193"
      ]
     },
     "execution_count": 4,
     "metadata": {},
     "output_type": "execute_result"
    }
   ],
   "source": [
    "data_가입자_퇴직자"
   ]
  },
  {
   "cell_type": "code",
   "execution_count": 5,
   "metadata": {},
   "outputs": [],
   "source": [
    "data_mean=data_가입자_퇴직자.loc['퇴직자']/(data_가입자_퇴직자.loc['가입자'])"
   ]
  },
  {
   "cell_type": "code",
   "execution_count": 6,
   "metadata": {
    "scrolled": true
   },
   "outputs": [
    {
     "data": {
      "text/plain": [
       "유치원_교직원     0.325227\n",
       "초등학교_교직원    0.044606\n",
       "중학교_교직원     0.061466\n",
       "고등학교_교직원    0.061662\n",
       "전문대_교직원     0.100491\n",
       "대학교_교직원     0.083547\n",
       "특수학교_교직원    0.054168\n",
       "dtype: float64"
      ]
     },
     "execution_count": 6,
     "metadata": {},
     "output_type": "execute_result"
    }
   ],
   "source": [
    "data_mean"
   ]
  },
  {
   "cell_type": "code",
   "execution_count": null,
   "metadata": {},
   "outputs": [],
   "source": []
  }
 ],
 "metadata": {
  "kernelspec": {
   "display_name": "Python 3",
   "language": "python",
   "name": "python3"
  },
  "language_info": {
   "codemirror_mode": {
    "name": "ipython",
    "version": 3
   },
   "file_extension": ".py",
   "mimetype": "text/x-python",
   "name": "python",
   "nbconvert_exporter": "python",
   "pygments_lexer": "ipython3",
   "version": "3.7.3"
  },
  "toc": {
   "base_numbering": 1,
   "nav_menu": {},
   "number_sections": true,
   "sideBar": true,
   "skip_h1_title": false,
   "title_cell": "Table of Contents",
   "title_sidebar": "Contents",
   "toc_cell": false,
   "toc_position": {},
   "toc_section_display": true,
   "toc_window_display": false
  }
 },
 "nbformat": 4,
 "nbformat_minor": 2
}
